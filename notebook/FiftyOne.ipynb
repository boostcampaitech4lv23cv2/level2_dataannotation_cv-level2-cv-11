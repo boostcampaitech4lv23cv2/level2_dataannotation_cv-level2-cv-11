{
 "cells": [
  {
   "attachments": {},
   "cell_type": "markdown",
   "id": "ebcf7cd8-0c8d-49e4-98df-da3ca7c7a61c",
   "metadata": {},
   "source": [
    "# FiftyOne\n",
    "\n",
    "v221210 -> v221212(gun)\n",
    "\n",
    "### 이미지 검수\n",
    "1. UFO 형식 어노테이션/이미지 불러오기\n",
    "2. 이미지 / 어노테이션 검수 (FiftyOne)\n",
    "3. 라벨 수정 (CVAT 연동)\n",
    "4. 라벨 내보내기\n",
    "\n",
    "\n",
    "### pred_gt 비교\n",
    "1. UFO 형식 어노테이션/이미지 불러오기\n",
    "2. 이미지 / 어노테이션 검수 (FiftyOne)\n",
    "\n",
    "### utils\n",
    "1. fiftyone dataset 목록 / 가져오기 / 삭제\n",
    "\n",
    "\n"
   ]
  },
  {
   "cell_type": "code",
   "execution_count": 2,
   "id": "0aeaaa0c-3837-41ba-963f-852b1687614f",
   "metadata": {},
   "outputs": [
    {
     "name": "stdout",
     "output_type": "stream",
     "text": [
      "Migrating database to v0.18.0\n"
     ]
    }
   ],
   "source": [
    "import fiftyone as fo\n",
    "import fiftyone.zoo as foz\n",
    "import fiftyone.core.labels as fol\n",
    "from fiftyone import ViewField as F\n",
    "\n",
    "import json\n",
    "import os\n",
    "import os.path as osp\n",
    "from pathlib import Path\n",
    "from random import randint\n",
    "from itertools import combinations, compress\n",
    "import requests\n",
    "\n",
    "import pandas as pd\n",
    "import numpy as np\n",
    "from rich import print\n",
    "from tqdm.notebook import tqdm\n",
    "\n",
    "from utils.ufo import UFODataset, label_schema\n",
    "\n"
   ]
  },
  {
   "attachments": {},
   "cell_type": "markdown",
   "id": "623b42cb-94e6-41e7-a2d0-6c0a59a959a3",
   "metadata": {},
   "source": [
    "# 이미지 검수\n",
    "#### 1. UFO 형식 어노테이션/이미지 불러오기"
   ]
  },
  {
   "cell_type": "code",
   "execution_count": 3,
   "id": "3936ead3-954d-4d3c-8332-7ae2495c9b10",
   "metadata": {},
   "outputs": [
    {
     "name": "stdout",
     "output_type": "stream",
     "text": [
      " 100% |█████████████████| 967/967 [32.1s elapsed, 0s remaining, 58.5 samples/s]      \n"
     ]
    }
   ],
   "source": [
    "# 정해줘야 하는 값들\n",
    "# 이미지 파일 경로\n",
    "DATA_PATH = '/opt/ml/input/data/boostcourse/images'\n",
    "\n",
    "# 어노테이션 경로\n",
    "LABELS_PATH = '/opt/ml/input/data/boostcourse/ufo/text.json'\n",
    "\n",
    "\n",
    "\n",
    "dataset = fo.Dataset.from_dir(\n",
    "    name = 'my-dataset',\n",
    "    data_path = DATA_PATH,\n",
    "    labels_path = LABELS_PATH,\n",
    "    dataset_type = UFODataset,\n",
    ")\n",
    "\n",
    "# 자신이 검수할 데이터셋 범위 지정\n",
    "subset = dataset[:200]"
   ]
  },
  {
   "attachments": {},
   "cell_type": "markdown",
   "id": "c856c7f9-9f23-49ec-bad2-6ae051c7d109",
   "metadata": {
    "tags": []
   },
   "source": [
    "#### 2. 이미지 / 어노테이션 검수 (FiftyOne)\n",
    "\n",
    "세션 실행\n",
    "\n",
    "https://<서버 IP>:30001 형식의 주소로 접속해서 검수 가능\n",
    "\n",
    "수정할 라벨들을 선택하면 됨. `<ESC>` 누르면 선택 취소되므로 주의"
   ]
  },
  {
   "cell_type": "code",
   "execution_count": 4,
   "id": "54e496df-c84b-4623-bcc1-93d8c0f0f7d7",
   "metadata": {},
   "outputs": [
    {
     "data": {
      "text/html": [
       "<pre style=\"white-space:pre;overflow-x:auto;line-height:normal;font-family:Menlo,'DejaVu Sans Mono',consolas,'Courier New',monospace\"><span style=\"color: #0000ff; text-decoration-color: #0000ff; text-decoration: underline\">http://101.101.216.30:30001</span>\n",
       "</pre>\n"
      ],
      "text/plain": [
       "\u001b[4;94mhttp://101.101.216.30:30001\u001b[0m\n"
      ]
     },
     "metadata": {},
     "output_type": "display_data"
    }
   ],
   "source": [
    "PORT = 30001\n",
    "\n",
    "session = fo.Session(subset, port=PORT, address='0.0.0.0', auto=False)\n",
    "\n",
    "print(f'http://{requests.get(\"http://icanhazip.com\").text.strip()}:{PORT}')"
   ]
  },
  {
   "attachments": {},
   "cell_type": "markdown",
   "id": "21f39bda-3dcc-4513-9534-87342be35dff",
   "metadata": {
    "tags": []
   },
   "source": [
    "#### 3. 라벨 수정 (CVAT 연동)\n",
    "\n",
    "FiftyOne에서 선택한 라벨들을 CVAT에 업로드. CVAT 웹사이트에서 라벨 수정 가능"
   ]
  },
  {
   "cell_type": "code",
   "execution_count": null,
   "id": "08b0306b-f119-408d-95a4-850e32f1c03b",
   "metadata": {
    "tags": []
   },
   "outputs": [],
   "source": [
    "selected_view = dataset.select(session.selected)\n",
    "\n",
    "print('선택한 이미지 개수:', len(selected_view))\n",
    "assert len(selected_view) > 0, '검수할 이미지가 없음'\n",
    "\n",
    "anno_key = 'a' + str(randint(0, 1e9))\n",
    "print('anno_key:', anno_key)\n",
    "\n",
    "selected_view.annotate(\n",
    "    anno_key,\n",
    "    label_schema = label_schema,\n",
    "    launch_editor = True,\n",
    ")"
   ]
  },
  {
   "attachments": {},
   "cell_type": "markdown",
   "id": "d144d6c3-9497-4ec5-bbca-695d76838dbc",
   "metadata": {},
   "source": [
    "#### 4. 라벨 내보내기\n",
    "\n",
    "CVAT에서 수정한 라벨 저장했는지 확인하고, 불러온 뒤, UFO 형식으로 저장"
   ]
  },
  {
   "cell_type": "code",
   "execution_count": null,
   "id": "f8cdc450-d3b9-41b0-b15c-064f1115f80f",
   "metadata": {},
   "outputs": [],
   "source": [
    "dataset.load_annotations(anno_key)"
   ]
  },
  {
   "cell_type": "code",
   "execution_count": null,
   "id": "057cac60-224b-47f7-b347-475f23245959",
   "metadata": {},
   "outputs": [],
   "source": [
    "# 수정한 라벨만 저장하려면 selected_view\n",
    "# 전체 데이터셋을 저장하려면 dataset\n",
    "# 본인이 검수한 범위만 저장하려면 subset\n",
    "\n",
    "selected_view.export(\n",
    "    labels_path = 'outs/fixed.json',\n",
    "    dataset_type=UFODataset,\n",
    ")"
   ]
  },
  {
   "attachments": {},
   "cell_type": "markdown",
   "id": "ead98739",
   "metadata": {},
   "source": [
    "# pred_gt 비교\n",
    "#### 1. UFO 형식 어노테이션/이미지 불러오기\n"
   ]
  },
  {
   "cell_type": "code",
   "execution_count": 16,
   "id": "63ea9180",
   "metadata": {},
   "outputs": [
    {
     "name": "stdout",
     "output_type": "stream",
     "text": [
      " 100% |█████████████████| 536/536 [5.7s elapsed, 0s remaining, 84.6 samples/s]       \n",
      " 100% |█████████████████| 536/536 [3.1s elapsed, 0s remaining, 174.0 samples/s]      \n"
     ]
    }
   ],
   "source": [
    "# 정해줘야 하는 값들\n",
    "# 이미지 파일 경로\n",
    "DATA_PATH = '/opt/ml/input/data/ICDAR17_Korean/images/'\n",
    "\n",
    "# 어노테이션 경로\n",
    "LABELS_PATH = '/opt/ml/input/data/ICDAR17_Korean/ufo/train.json'\n",
    "\n",
    "# 예측 경로\n",
    "PRED_PATH = '/opt/ml/code/predictions/output.json'\n",
    "\n",
    "\n",
    "#gt\n",
    "dataset = fo.Dataset.from_dir(\n",
    "    name = 'my-dataset_gt',\n",
    "    data_path = DATA_PATH,\n",
    "    labels_path = LABELS_PATH,\n",
    "    label_field=\"ground_truth\",\n",
    "    dataset_type = UFODataset,\n",
    ")\n",
    "\n",
    "#pred\n",
    "dataset_pred = fo.Dataset.from_dir(\n",
    "    name = 'my-dataset_pred',\n",
    "    data_path = DATA_PATH,\n",
    "    labels_path = PRED_PATH,\n",
    "    label_field=\"predictions\",\n",
    "    dataset_type = UFODataset,\n",
    ")\n",
    "\n",
    "predictions_view = dataset_pred.select_fields(\"predictions\")\n",
    "dataset.merge_samples(predictions_view)\n",
    "\n",
    "\n",
    "# 자신이 검수할 데이터셋 범위 지정\n",
    "subset = dataset[100:200]"
   ]
  },
  {
   "attachments": {},
   "cell_type": "markdown",
   "id": "37498c27",
   "metadata": {},
   "source": [
    "#### 2. 이미지 / 어노테이션 검수 (FiftyOne)\n",
    "\n",
    "세션 실행\n",
    "\n",
    "https://<서버 IP>:30001 형식의 주소로 접속해서 검수 가능\n",
    "\n",
    "수정할 라벨들을 선택하면 됨. `<ESC>` 누르면 선택 취소되므로 주의"
   ]
  },
  {
   "cell_type": "code",
   "execution_count": 17,
   "id": "f476bc28",
   "metadata": {},
   "outputs": [
    {
     "data": {
      "text/html": [
       "<pre style=\"white-space:pre;overflow-x:auto;line-height:normal;font-family:Menlo,'DejaVu Sans Mono',consolas,'Courier New',monospace\"><span style=\"color: #0000ff; text-decoration-color: #0000ff; text-decoration: underline\">http://101.101.216.30:30001</span>\n",
       "</pre>\n"
      ],
      "text/plain": [
       "\u001b[4;94mhttp://101.101.216.30:30001\u001b[0m\n"
      ]
     },
     "metadata": {},
     "output_type": "display_data"
    }
   ],
   "source": [
    "PORT = 30001\n",
    "\n",
    "session = fo.Session(subset, port=PORT, address='0.0.0.0', auto=False)\n",
    "\n",
    "print(f'http://{requests.get(\"http://icanhazip.com\").text.strip()}:{PORT}')"
   ]
  },
  {
   "attachments": {},
   "cell_type": "markdown",
   "id": "6b3f7e4d",
   "metadata": {},
   "source": [
    "# Utils\n",
    "#### 1. fiftyone dataset 목록 / 가져오기 / 삭제 \n"
   ]
  },
  {
   "cell_type": "code",
   "execution_count": 9,
   "id": "11e5e1ca",
   "metadata": {},
   "outputs": [
    {
     "data": {
      "text/plain": [
       "['my-dataset_gt', 'my-dataset_pred']"
      ]
     },
     "execution_count": 9,
     "metadata": {},
     "output_type": "execute_result"
    }
   ],
   "source": [
    "# fiftyone dataset 목록\n",
    "fo.list_datasets()"
   ]
  },
  {
   "cell_type": "code",
   "execution_count": 6,
   "id": "ed769486",
   "metadata": {},
   "outputs": [],
   "source": [
    "# fiftyone dataset 가져오기\n",
    "DATASET_NAME = \"my-dataset\"\n",
    "dataset = fo.load_dataset(DATASET_NAME)"
   ]
  },
  {
   "cell_type": "code",
   "execution_count": 7,
   "id": "6ba22c5d",
   "metadata": {},
   "outputs": [],
   "source": [
    "# fiftyone dataset 삭제\n",
    "dataset.delete()"
   ]
  },
  {
   "cell_type": "code",
   "execution_count": 15,
   "id": "10d6f415",
   "metadata": {},
   "outputs": [],
   "source": [
    "# fiftyone dataset 전체 삭제\n",
    "for dataset_name in fo.list_datasets():\n",
    "    fo.load_dataset(dataset_name).delete()"
   ]
  }
 ],
 "metadata": {
  "kernelspec": {
   "display_name": "base",
   "language": "python",
   "name": "python3"
  },
  "language_info": {
   "codemirror_mode": {
    "name": "ipython",
    "version": 3
   },
   "file_extension": ".py",
   "mimetype": "text/x-python",
   "name": "python",
   "nbconvert_exporter": "python",
   "pygments_lexer": "ipython3",
   "version": "3.8.5"
  },
  "vscode": {
   "interpreter": {
    "hash": "d4d1e4263499bec80672ea0156c357c1ee493ec2b1c70f0acce89fc37c4a6abe"
   }
  }
 },
 "nbformat": 4,
 "nbformat_minor": 5
}

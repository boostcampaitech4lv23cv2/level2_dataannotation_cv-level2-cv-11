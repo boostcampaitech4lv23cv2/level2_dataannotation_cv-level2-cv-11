{
 "cells": [
  {
   "cell_type": "code",
   "execution_count": 1,
   "metadata": {},
   "outputs": [],
   "source": [
    "import json\n",
    "import os\n",
    "import copy"
   ]
  },
  {
   "cell_type": "code",
   "execution_count": 2,
   "metadata": {},
   "outputs": [],
   "source": [
    "# json 파일에서 'images' key를 제외한 key 삭제 => 데이터 합성 이전에 필요\n",
    "\n",
    "json_dir = [\n",
    "    '/opt/ml/input/data/boostcourse/random_split_ufo/train.json',\n",
    "    '/opt/ml/input/data/boostcourse/random_split_ufo/val.json'\n",
    "    ]#Fix me\n",
    "\n",
    "for json_file in json_dir:\n",
    "    with open(json_file) as f: data = json.load(f)\n",
    "\n",
    "    data_dump = copy.deepcopy(data)\n",
    "    for key in data:\n",
    "        if key != 'images':\n",
    "            del data_dump[key]\n",
    "    with open(json_file, 'w') as f:\n",
    "        json.dump(data_dump, f, indent=2)"
   ]
  }
 ],
 "metadata": {
  "kernelspec": {
   "display_name": "base",
   "language": "python",
   "name": "python3"
  },
  "language_info": {
   "codemirror_mode": {
    "name": "ipython",
    "version": 3
   },
   "file_extension": ".py",
   "mimetype": "text/x-python",
   "name": "python",
   "nbconvert_exporter": "python",
   "pygments_lexer": "ipython3",
   "version": "3.8.5"
  },
  "orig_nbformat": 4,
  "vscode": {
   "interpreter": {
    "hash": "d4d1e4263499bec80672ea0156c357c1ee493ec2b1c70f0acce89fc37c4a6abe"
   }
  }
 },
 "nbformat": 4,
 "nbformat_minor": 2
}

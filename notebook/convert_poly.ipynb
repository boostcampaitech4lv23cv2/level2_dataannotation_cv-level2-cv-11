{
 "cells": [
  {
   "cell_type": "code",
   "execution_count": 28,
   "id": "5f09e936-bc5a-4204-aa85-4ef9ee19dc25",
   "metadata": {},
   "outputs": [],
   "source": [
    "import json"
   ]
  },
  {
   "cell_type": "code",
   "execution_count": 25,
   "id": "6a16d4cb-0f4e-4218-982b-43f49ec9c71f",
   "metadata": {},
   "outputs": [
    {
     "name": "stdout",
     "output_type": "stream",
     "text": [
      "0\n"
     ]
    }
   ],
   "source": [
    "# file_names = []\n",
    "count = 0\n",
    "tmp = []\n",
    "with open('/opt/ml/input/data/boostcamp/ufo/annotation.json', 'r') as f:\n",
    "    contents = f.read()\n",
    "    json_data = json.loads(contents)\n",
    "    for file_name in json_data['images']:\n",
    "        for index in json_data['images'][file_name]['words']:\n",
    "            if len(json_data['images'][file_name]['words'][index]['points']) > 4:\n",
    "                points = json_data['images'][file_name]['words'][index]['points']\n",
    "                minx = 10000\n",
    "                miny = 10000\n",
    "                maxx = 0\n",
    "                maxy = 0\n",
    "                for x, y in points:\n",
    "                    minx = min(x, minx)\n",
    "                    miny = min(y, miny)\n",
    "                    maxx = max(x, maxx)\n",
    "                    maxy = max(y, maxy)\n",
    "                json_data['images'][file_name]['words'][index]['points'] = [[minx, miny], [maxx, miny], [maxx, maxy], [minx, maxy]]\n",
    "for file_name in json_data['images']:\n",
    "        for index in json_data['images'][file_name]['words']:\n",
    "            if len(json_data['images'][file_name]['words'][index]['points']) > 4:\n",
    "                count += 1\n",
    "print(count)\n",
    "with open('text.json', 'w') as f:\n",
    "    json.dump(json_data, f, indent=2)"
   ]
  },
  {
   "cell_type": "code",
   "execution_count": 27,
   "id": "7c4d5697-3375-4f94-8248-85087561c1bc",
   "metadata": {},
   "outputs": [
    {
     "name": "stdout",
     "output_type": "stream",
     "text": [
      "0\n"
     ]
    }
   ],
   "source": [
    "with open('text.json', 'r') as f:\n",
    "    contents = f.read()\n",
    "    json_data = json.loads(contents)\n",
    "    for file_name in json_data['images']:\n",
    "        for index in json_data['images'][file_name]['words']:\n",
    "            if len(json_data['images'][file_name]['words'][index]['points']) > 4:\n",
    "                count += 1\n",
    "print(count)"
   ]
  },
  {
   "cell_type": "code",
   "execution_count": null,
   "id": "6e28d9d2-62fe-49b4-bdef-5f785fbf8e67",
   "metadata": {},
   "outputs": [],
   "source": []
  }
 ],
 "metadata": {
  "kernelspec": {
   "display_name": "Python 3 (ipykernel)",
   "language": "python",
   "name": "python3"
  },
  "language_info": {
   "codemirror_mode": {
    "name": "ipython",
    "version": 3
   },
   "file_extension": ".py",
   "mimetype": "text/x-python",
   "name": "python",
   "nbconvert_exporter": "python",
   "pygments_lexer": "ipython3",
   "version": "3.8.5"
  }
 },
 "nbformat": 4,
 "nbformat_minor": 5
}

{
 "cells": [
  {
   "cell_type": "code",
   "execution_count": 2,
   "id": "5f09e936-bc5a-4204-aa85-4ef9ee19dc25",
   "metadata": {},
   "outputs": [],
   "source": [
    "import json"
   ]
  },
  {
   "cell_type": "markdown",
   "id": "0993e2cf",
   "metadata": {},
   "source": [
    "## poly to bbox"
   ]
  },
  {
   "cell_type": "code",
   "execution_count": 2,
   "id": "6a16d4cb-0f4e-4218-982b-43f49ec9c71f",
   "metadata": {},
   "outputs": [
    {
     "name": "stdout",
     "output_type": "stream",
     "text": [
      "0\n"
     ]
    }
   ],
   "source": [
    "# file_names = []\n",
    "count = 0\n",
    "with open('/opt/ml/input/data/boostcamp/ufo/annotation.json', 'r') as f:\n",
    "    contents = f.read()\n",
    "    json_data = json.loads(contents)\n",
    "    for file_name in json_data['images']:\n",
    "        for index in json_data['images'][file_name]['words']:\n",
    "            if len(json_data['images'][file_name]['words'][index]['points']) > 4:\n",
    "                points = json_data['images'][file_name]['words'][index]['points']\n",
    "                minx = 10000\n",
    "                miny = 10000\n",
    "                maxx = 0\n",
    "                maxy = 0\n",
    "                for x, y in points:\n",
    "                    minx = min(x, minx)\n",
    "                    miny = min(y, miny)\n",
    "                    maxx = max(x, maxx)\n",
    "                    maxy = max(y, maxy)\n",
    "                json_data['images'][file_name]['words'][index]['points'] = [[minx, miny], [maxx, miny], [maxx, maxy], [minx, maxy]]\n",
    "for file_name in json_data['images']:\n",
    "        for index in json_data['images'][file_name]['words']:\n",
    "            if len(json_data['images'][file_name]['words'][index]['points']) > 4:\n",
    "                count += 1\n",
    "print(count)\n",
    "with open('text.json', 'w') as f:\n",
    "    json.dump(json_data, f, indent=2)"
   ]
  },
  {
   "cell_type": "code",
   "execution_count": 3,
   "id": "7c4d5697-3375-4f94-8248-85087561c1bc",
   "metadata": {},
   "outputs": [
    {
     "name": "stdout",
     "output_type": "stream",
     "text": [
      "0\n"
     ]
    }
   ],
   "source": [
    "with open('text.json', 'r') as f:\n",
    "    contents = f.read()\n",
    "    json_data = json.loads(contents)\n",
    "    for file_name in json_data['images']:\n",
    "        for index in json_data['images'][file_name]['words']:\n",
    "            if len(json_data['images'][file_name]['words'][index]['points']) > 4:\n",
    "                count += 1\n",
    "print(count)"
   ]
  },
  {
   "cell_type": "markdown",
   "id": "9cc691cf",
   "metadata": {},
   "source": [
    "## delete no annotation "
   ]
  },
  {
   "cell_type": "code",
   "execution_count": 4,
   "id": "6e28d9d2-62fe-49b4-bdef-5f785fbf8e67",
   "metadata": {},
   "outputs": [
    {
     "name": "stdout",
     "output_type": "stream",
     "text": [
      "0\n"
     ]
    }
   ],
   "source": [
    "count = 0\n",
    "del_list = []\n",
    "with open('/opt/ml/input/data/boostcamp/ufo/text.json', 'r') as f:\n",
    "    contents = f.read()\n",
    "    json_data = json.loads(contents)\n",
    "    for file_name in json_data['images']:\n",
    "        if len(json_data['images'][file_name]['words']) == 0:\n",
    "            del_list.append(file_name)\n",
    "    \n",
    "    for file_name in del_list:\n",
    "        del json_data['images'][file_name]\n",
    "            \n",
    "for file_name in json_data['images']:\n",
    "        if len(json_data['images'][file_name]['words']) == 0:\n",
    "                count += 1\n",
    "print(count)\n",
    "with open('text2.json', 'w') as f:\n",
    "    json.dump(json_data, f, indent=2)"
   ]
  }
 ],
 "metadata": {
  "kernelspec": {
   "display_name": "Python 3.8.5 ('base': conda)",
   "language": "python",
   "name": "python3"
  },
  "language_info": {
   "codemirror_mode": {
    "name": "ipython",
    "version": 3
   },
   "file_extension": ".py",
   "mimetype": "text/x-python",
   "name": "python",
   "nbconvert_exporter": "python",
   "pygments_lexer": "ipython3",
   "version": "3.8.5"
  },
  "vscode": {
   "interpreter": {
    "hash": "d4d1e4263499bec80672ea0156c357c1ee493ec2b1c70f0acce89fc37c4a6abe"
   }
  }
 },
 "nbformat": 4,
 "nbformat_minor": 5
}

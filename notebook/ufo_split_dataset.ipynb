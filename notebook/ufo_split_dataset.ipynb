{
 "cells": [
  {
   "cell_type": "markdown",
   "metadata": {},
   "source": [
    "# 환경설정"
   ]
  },
  {
   "cell_type": "code",
   "execution_count": 1,
   "metadata": {},
   "outputs": [],
   "source": [
    "import random\n",
    "import numpy as np\n",
    "import pandas as pd\n",
    "from collections import Counter, defaultdict\n",
    "import json\n",
    "from sklearn.model_selection import train_test_split\n",
    "from copy import deepcopy\n"
   ]
  },
  {
   "cell_type": "code",
   "execution_count": 2,
   "metadata": {},
   "outputs": [],
   "source": [
    "# 재현성\n",
    "def fix_seed(random_seed):\n",
    "    np.random.seed(random_seed)\n",
    "    random.seed(random_seed)\n",
    "\n",
    "fix_seed(42)"
   ]
  },
  {
   "cell_type": "markdown",
   "metadata": {},
   "source": [
    "## random train/val split"
   ]
  },
  {
   "cell_type": "code",
   "execution_count": 5,
   "metadata": {},
   "outputs": [
    {
     "name": "stdout",
     "output_type": "stream",
     "text": [
      "Total dataset 크기: 536\n",
      " Train dataset 크기: 483\n",
      " Val dataset 크기: 53\n"
     ]
    }
   ],
   "source": [
    "\"\"\"\n",
    "idx를 받아 train/valid split annotation json 생성하는 함수\n",
    "\n",
    "idx: annotations json 리스트에서의 index\n",
    "id : Image/Annotation 식별 id\n",
    "\"\"\"\n",
    "\n",
    "def generate_split(train_idx, val_idx):\n",
    "    train_data = deepcopy(data)\n",
    "    val_data = deepcopy(data)\n",
    "    \n",
    "    df_imgs = pd.DataFrame(data['images']).transpose()\n",
    "    \n",
    "    train_data['images'] = df_imgs.iloc[list(train_idx)].to_dict('index')\n",
    "    val_data['images'] = df_imgs.iloc[list(val_idx)].to_dict('index')\n",
    "    \n",
    "    return train_data, val_data\n",
    "\n",
    "annotation = '/opt/ml/input/data/ICDAR17_Korean/ufo/train.json'\n",
    "\n",
    "with open(annotation) as f: data = json.load(f)\n",
    "\n",
    "dataset_len = len(data['images'])\n",
    "percent = 0.1 # test/valid split 비율\n",
    "\n",
    "dummy_idx = {x for x in range(dataset_len)} # 데이터셋 전체 길이의 더미 인덱스\n",
    "val_idx = set(random.sample(dummy_idx, int(dataset_len*percent))) # 랜덤으로 추출된 validation idx\n",
    "train_idx = dummy_idx - val_idx # 랜덤으로 추출된 train idx\n",
    "\n",
    "assert len(val_idx & train_idx) == 0 ,\"error: 중복된 값이 있음\"\n",
    "print(f\"Total dataset 크기: {len(dummy_idx)}\\n Train dataset 크기: {len(train_idx)}\\n Val dataset 크기: {len(val_idx)}\")\n",
    "\n",
    "# train_idx, val_idx 는 annotation의 idx임. (!= id)\n",
    "train_data, val_data = generate_split(train_idx, val_idx)\n",
    "\n",
    "with open(f'/opt/ml/input/data/ICDAR17_Korean/random_split_ufo/train.json', 'w') as f:\n",
    "    json.dump(train_data, f, indent=2)\n",
    "\n",
    "with open(f'/opt/ml/input/data/ICDAR17_Korean/random_split_ufo/val.json', 'w') as f:\n",
    "    json.dump(val_data, f, indent=2)\n"
   ]
  }
 ],
 "metadata": {
  "kernelspec": {
   "display_name": "Python 3.8.5 ('base')",
   "language": "python",
   "name": "python3"
  },
  "language_info": {
   "codemirror_mode": {
    "name": "ipython",
    "version": 3
   },
   "file_extension": ".py",
   "mimetype": "text/x-python",
   "name": "python",
   "nbconvert_exporter": "python",
   "pygments_lexer": "ipython3",
   "version": "3.8.5"
  },
  "orig_nbformat": 4,
  "vscode": {
   "interpreter": {
    "hash": "d4d1e4263499bec80672ea0156c357c1ee493ec2b1c70f0acce89fc37c4a6abe"
   }
  }
 },
 "nbformat": 4,
 "nbformat_minor": 2
}
